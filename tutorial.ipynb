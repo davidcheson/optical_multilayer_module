{
 "cells": [
  {
   "cell_type": "markdown",
   "metadata": {},
   "source": [
    "# Interactive tutorial on using the functions witin the optical_mutlilayer (om) module.\n",
    "### Created by Dr. William Robertson and David C. Heson. \n",
    "\n",
    "<p>Initial version of the tutorial, more explanations and examples will be added + any new features will receive their own section.<br>\n",
    "\n",
    "Please email any suggestions or questions to [Dr. William Robertson](mailto:william.robertson@mtsu.edu) or [David C. Heson](mailto:dch376@msstate.edu).</p>\n",
    "\n",
    "### Code features as listed in this tutorial:\n",
    "<ol>\n",
    "    <li>Taking as input material multilayers of any custom lenghts, number of layers, and with any custom indeces of refraction (which can be complex).</li>\n",
    "    <li>Simulating intensity of reflected light through a multilayer with respect to the incident angle of the inbound light at a set wavelength.</li>\n",
    "    <li>Simulating intensity of reflected light through a multilayer with respect to the wavelength of the inbound light at a set incident angle.</li>\n",
    "    <li>Simulating intensity of reflected light through a multilayer with respect to the wavelength of the inbound light at a set incident angle, while using a known relationship between wavelength and index of refraction to adjust the indeces dynamically. (advanced)</li>\n",
    "    <li>Overview of intensity of reflected or transmitted light through a multilayer simulation options.</li>\n",
    "    <li>Simulating the electric field through a multilayer at a fixed wavelength and incident angle for the inbound light.</li>\n",
    "    <li>Overview of core multilayer simulation functionalities.</li>\n",
    "    <li>Practical examples of light intensity and electric field simulations.</li>\n",
    "    <li>Using the inbuilt graphing methods for electric field simulations.</li>\n",
    "    <li>Using the inbuilt Bloch Surface Wave detector. (unstable)</li>\n",
    "    <li>Using the inbuilt Refractive Index Unit (RIU) / Shift With Thickness (SWT) calculators. (unstable)\n",
    "    <li>Using the inbuilt brute-force multilayer designer. (advanced)(unstable)</li>\n",
    "</ol>"
   ]
  },
  {
   "cell_type": "markdown",
   "metadata": {},
   "source": [
    "<p>Let's get started.<br>\n",
    "Below we will just import the Python modules we need.</p>"
   ]
  },
  {
   "cell_type": "code",
   "execution_count": null,
   "metadata": {},
   "outputs": [],
   "source": [
    "# importing the modules which will be used in this tutorial\n",
    "# the optical_multilayer module itself operates off numpy and matplotlib, \n",
    "# but importing these is useful for easily visualizing the generated simulations\n",
    "# and send input arguments which are more stable for the code to \"digest\"\n",
    "\n",
    "import numpy as np\n",
    "import optical_multilayer as om\n",
    "import matplotlib.pyplot as plt\n",
    "\n",
    "# for this to work make sure you have installed these python packages.\n",
    "# this can be easily done by using the pip command in your terminal\n",
    "# i.e. \"pip install optical_multilayer\"\n",
    "# for additional help you can visit the Python Package Index (PIP) website"
   ]
  },
  {
   "cell_type": "markdown",
   "metadata": {},
   "source": [
    "The main utility of the program is the simulation of the light intensity and electric field profile accross any user defined multilayers. The code is extremely flexible, and can handle a large array of parameters. This is also arguably its biggest downside, making it slightly convoluted at first.\n",
    "For this reason, we will attempt to break down each component of the provided functions step by step.\n",
    "\n",
    "The conceptual difficulty of the physics involved only futher convolutes the process. If you are not familiar with the topics at hand and wish to get an understanding of the physics involved, "
   ]
  },
  {
   "cell_type": "markdown",
   "metadata": {},
   "source": [
    "### 1. Taking as input material multilayers of any custom lenghts, number of layers, and with any custom indeces of refraction (which can be complex\n",
    "\n",
    "To begin with, we will simply look at how to effectively make the variables which will be used to define the various simulation parameters. \n",
    "The main multilayer function has a lot of parameters, for now we will simply focus on the basic ones which are required for virtually all simulations."
   ]
  },
  {
   "cell_type": "code",
   "execution_count": null,
   "metadata": {},
   "outputs": [],
   "source": [
    "# The main function with its default arguments is as following:\n",
    "# om.multilayer(n_list, dist, mode = 'rp', step = 1000, option_aw = 'a', e_opt = 'n',\n",
    "#               a1 = 0, a2 = np.pi/2, w_t = 650e-9, w1 = 400e-9, w2 = 750e-9,\n",
    "#               ang = np.pi/3, n_wv_dic = {}, nw_list = [], limit = 1000e-9)\n",
    "\n",
    "# n_list represents the list of refractive indeces for the mediums considered, in order\n",
    "# from top to bottom. parsing this number as conmplex even if the complex part is 0 is\n",
    "# strongly reccomended\n",
    "\n",
    "# dist is the thicknesses of the multilayers involved, and they need to be two less than \n",
    "# the number of mediums specifies with n_list, since the two outside mediums are considered\n",
    "# infinite\n",
    "\n",
    "# mode represents the polarisation mode and whether transmission or reflection coefficients \n",
    "# are calculated (the difference between them giving the absorption coefficients)\n",
    "# the first letter stands for (r)eflection or (t)ransmission, and the second letter stands\n",
    "# for either P(parallel) or S(perpendicular) polarisation\n",
    "\n",
    "# this is a lot of words, so to visualize it, consider a simple system that has \n",
    "# glass on top (n = 1.5, 0.00), Silicon Dioxide (Si02) with n = 1.457, 3.4e-5\n",
    "# and then a Titanium Dioxie (TiO2) with n = 2.3, 1.5e-4, SiO2 again, TiO2 again, \n",
    "# and then with the bottom layer being water (n = 1.33, 0.00)\n",
    "# Let the thickness of the first layer be 132 nm, the thickness of the 2nd layer be 250 nm, \n",
    "# thickness of the 3rd layer be 132 nm again, and the thickness of the final layer be \n",
    "# 300 nm. We will calculate the reflection coefficient with P polarized light\n",
    "\n",
    "# we will use a resolution of 10000 steps for this, which means the simulation will \n",
    "# generate a total of 10000 points at which it will evaluate the corresponding coefficients\n",
    "\n",
    "# the set-up code for this scenario would look like:\n",
    "\n",
    "index = np.array([complex(1.5, 0.00), complex(1.457, 3.4e-5), complex(2.3, 1.5e-4),\n",
    "        complex(1.457, 3.4e-5), complex(2.3, 1.5e-4), complex(1.33, 0.00)])\n",
    "        ### variable defining the indeces of refraction in the system\n",
    "    \n",
    "depth = np.array([132e-9, 250e-9, 132e-9, 300e-9])\n",
    "        ### variable defining the depths of the multilayers in the system\n",
    "\n",
    "res = 10000\n",
    "        ### variable giving the \"resolution\" (or number of simulated points)\n",
    "    \n",
    "pol = 'rs'\n",
    "        ### variable giving whether the simulation shows transmission or reflection\n",
    "        ### coefficients and the polarisation mode of the light\n",
    "        ### future versions will support light with mixed polarisation states\n",
    "        ### the polarisation mode key is:\n",
    "            ### rs - S-Polarized Inbound to Reflected Light Intensity \n",
    "            ### rp - P-Polarized Inbound to Reflected Light Intensity\n",
    "            ### ts - S-Polarized Inbound to Transmitted Light Intensity \n",
    "            ### tp - P-Polarized Inbound to Transmitted Light Intensity\n",
    "        ### note that this variable *has* to be one of these specific strings\n",
    "        ### otherwise the code will return an exception\n",
    "        \n",
    "# note that the layer variables are defined with np.array, numpy arrays being more efficient\n",
    "# than classic python lists, and numpy has better complex number support hence avoids some\n",
    "# weird bugs from arising\n",
    "# side note: to easily express exponents in python, you can use the \"e\" symbol in the \n",
    "# number, as it can be seen in the definition of the layer depth \n",
    "\n",
    "# side note: the thicknesses and refraction coefficients used do not necessarily \n",
    "# corellate to any real materials or systems, they were random choices"
   ]
  },
  {
   "cell_type": "markdown",
   "metadata": {},
   "source": [
    "### 2. Simulating intensity of reflected light through a multilayer with respect to the incident angle of the inbound light at a set wavelength.\n",
    "\n",
    "We will simply utilize the hyperparameters defined in the section above to do this. Consider a set wavelength of inbound light of 450 nm for this simulation. Our output will be a graph showing the intensity of light reflected out of the system as a function of changing incident angle. The code is as follows:"
   ]
  },
  {
   "cell_type": "code",
   "execution_count": null,
   "metadata": {},
   "outputs": [],
   "source": [
    "wave = 450e-9\n",
    "    ### variable defining the incident wavelength of light\n",
    "    \n",
    "a1 = 0\n",
    "    ### angle of incident light at which the simulation starts\n",
    "a2 = np.pi/2 \n",
    "    ### angle of incident light at which the simulation ends\n",
    "    ### note that this has to be in radians\n",
    "    \n",
    "output = om.multilayer(index, depth, mode = pol, step = res, option_aw = 'a',\n",
    "               a1 = a1, a2 = a2, w_t = wave)\n",
    "    ### the simulation should run fairly quickly with a res of only 10000 steps\n",
    "    ### however, this time can increase significantly depending on your machine\n",
    "    ### if a large number of steps is chosen\n",
    "    ### additionaly, note that the w_t variable gives the constant wavelength at which we\n",
    "    ### wish the simulation to run\n",
    "    ### additionally, note the \"option_aw\" parameter. this one determines whether or not\n",
    "    ### the simulation runs with respect to changing angle or changing wavelength\n",
    "    ### the default is set to changing angle, but it is always good to specify it"
   ]
  },
  {
   "cell_type": "code",
   "execution_count": null,
   "metadata": {},
   "outputs": [],
   "source": [
    "# let us now investigate what the function *actually* returns\n",
    "output"
   ]
  },
  {
   "cell_type": "code",
   "execution_count": null,
   "metadata": {},
   "outputs": [],
   "source": [
    "# as you can see, the returned output is a numpy array itself\n",
    "# it is hard to really understand its meaning by just looking at it,\n",
    "# but we can see that it has 2 columns, which means we can make a\n",
    "# 2D graph of the data it represents. let's use matplotlib to do so\n",
    "\n",
    "plt.plot(output[:,0], output[:,1])"
   ]
  },
  {
   "cell_type": "code",
   "execution_count": null,
   "metadata": {},
   "outputs": [],
   "source": [
    "# the output is a graph that shows the intensity of the reflected light, relative to the \n",
    "# inclination of the inbound light\n",
    "# we can see from this that past a specific angle, we see total internal reflection\n",
    "\n",
    "# now, let's make a nicer graph, with a x-axis in degrees\n",
    "\n",
    "angles = output[:,0] * (180/np.pi)\n",
    "intensity = output[:,1]\n",
    "\n",
    "fig, ax = plt.subplots(figsize=(12, 6))\n",
    "plt.plot(angles, intensity, label = \"Inbound light at 450 nm\")\n",
    "plt.title(\"Ratio of light reflected from S-polarized light\")\n",
    "plt.xlabel(\"Inbound Light Angle (Degrees)\")\n",
    "plt.ylabel(\"Intensity of Reflected Light Relative to Inbound Light\")\n",
    "plt.legend()\n",
    "plt.grid()\n",
    "plt.show()"
   ]
  },
  {
   "cell_type": "markdown",
   "metadata": {},
   "source": [
    "We have now succesfully simulated the amount of light reflected out of an optical multilayer with respect to diferent inbound angles!"
   ]
  },
  {
   "cell_type": "markdown",
   "metadata": {},
   "source": [
    "### 3. Simulating intensity of reflected light through a multilayer with respect to the wavelength of the inbound light at a set incident angle.\n",
    "\n",
    "This process will be extremely similar to the fixed wavelength one. The same hyperparameters (layer depths, medium indeces, light polarisation and reflection) will be used from now on unless otherwise specified."
   ]
  },
  {
   "cell_type": "code",
   "execution_count": null,
   "metadata": {},
   "outputs": [],
   "source": [
    "w1 = 300e-9\n",
    "    ### starting wavelength of simulation at 300 nm\n",
    "w2 = 700e-9\n",
    "    ### ending wavelength of simulation at 700 nm\n",
    "ang = 62.5 * np.pi/180\n",
    "    ### fixed angle of simulation, note that we must make sure that it is in radians\n",
    "\n",
    "output = om.multilayer(index, depth, mode = pol, step = res, option_aw = 'w',\n",
    "               w1 = w1, w2 = w2, ang = ang)\n",
    "\n",
    "fig, ax = plt.subplots(figsize=(12, 6))\n",
    "plt.plot(output[:,0] * 10e8, output[:,1], label = \"Inbound light at 62.5 degrees\")\n",
    "plt.title(\"Ratio of light reflected from S-polarized light\")\n",
    "plt.xlabel(\"Inbound Light Wavelength (nm)\")\n",
    "plt.ylabel(\"Intensity of Reflected Light Relative to Inbound Light\")\n",
    "plt.legend()\n",
    "plt.grid()\n",
    "plt.show()"
   ]
  },
  {
   "cell_type": "markdown",
   "metadata": {},
   "source": [
    "### 4. Simulating intensity of reflected light through a multilayer with respect to the wavelength of the inbound light at a set incident angle, while using a known relationship between wavelength and index of refraction to adjust the indeces dynamically. (advanced)\n",
    "\n",
    "In reality, indeces of refraction are not constant. There is an inbuilt functionality in the code which automatically adjusts the indeces of refraction of the mediums, given that each index of refraction can be expressed in the form of a formula which depends solely on the wavelength of incident light.\n",
    "\n",
    "We will use Python dictionaries for this, and have to define our own index of refraction functions."
   ]
  },
  {
   "cell_type": "code",
   "execution_count": null,
   "metadata": {},
   "outputs": [],
   "source": [
    "# we will use the same wavelength range and fixed angle as in the section before\n",
    "\n",
    "# to start easy, we will first define the index functions for glass and water, because\n",
    "# their indeces will simply be constant\n",
    "\n",
    "def glass(lmbd):\n",
    "    return complex(1.5,0)\n",
    "def water(lmbd):\n",
    "    return complex(1.33,0)\n",
    "# the function needs to take a wavelength in meters as input, and return the \n",
    "# index of refraction as a complex number\n",
    "\n",
    "# now for the more complex equations for materials Si02 and TiO2, these will be:\n",
    "\n",
    "def tio2(lmbd):\n",
    "    lmbd0 = lmbd * (10 ** (6))\n",
    "    out = complex(np.sqrt(5.913 + (0.2441) / (-0.0803 + lmbd0 ** 2)), 0.0007)\n",
    "    return out\n",
    "           \n",
    "def sio2(lmbd):\n",
    "    lmbd0 = lmbd * (10 ** (6))\n",
    "    a = (0.6961663 * (lmbd0 ** 2)) / ((lmbd0 ** 2) - (0.0684043 ** 2))\n",
    "    b = (0.4079462 * (lmbd0 ** 2)) / ((lmbd0 ** 2) - (0.1162414 ** 2))\n",
    "    c = (0.8974794 * (lmbd0 ** 2)) / ((lmbd0 ** 2) - (9.896161 ** 2))\n",
    "    out = complex(np.sqrt(a + b + c + 1), 0.0001)\n",
    "    return out\n",
    "\n",
    "# a lot of index of refraction equations use wavelength in terms of microns, but the \n",
    "# input has to be in meters, so if that is the case we have to convert in the functions\n",
    "# the wavelength from meters to microns\n",
    "\n",
    "# now for the more complicated aspect of this, we will create a dispatch list and\n",
    "# the function dictionary\n",
    "\n",
    "# the function dictionary will simply assign a string value to each function, so that\n",
    "# it can be easily parsed through the main function\n",
    "func_dic = {'glass': glass, 'tio2': tio2, 'sio2': sio2, 'water': water}\n",
    "\n",
    "# the dispatch list will indicate the order in which the main function needs to call\n",
    "# index of refraction functions from the function dictionary\n",
    "dispatch_list = ['glass', 'tio2', 'sio2', 'tio2', 'sio2', 'water']\n",
    "\n",
    "# now to actually run the simulation...\n",
    "\n",
    "output = om.multilayer(index, depth, mode = pol, step = res, option_aw = 'w',\n",
    "               w1 = w1, w2 = w2, ang = ang, n_wv_dic = func_dic, nw_list = dispatch_list)\n",
    "        ### n_wv_dic is the dictionary variable in the main function. it is empty by\n",
    "        ### default, and if the function is parsed through with it empty, the code knows \n",
    "        ### we are not using dynamic indeces. nw_list is the function dispatch list\n",
    "\n",
    "fig, ax = plt.subplots(figsize=(12, 6))\n",
    "plt.plot(output[:,0] * 10e8, output[:,1], label = \"Inbound light at 62.5 degrees\")\n",
    "plt.title(\"Ratio of light reflected from S-polarized light\")\n",
    "plt.xlabel(\"Inbound Light Wavelength (nm)\")\n",
    "plt.ylabel(\"Intensity of Reflected Light Relative to Inbound Light\")\n",
    "plt.legend()\n",
    "plt.grid()\n",
    "plt.show()"
   ]
  },
  {
   "cell_type": "markdown",
   "metadata": {},
   "source": [
    "### 8. Practical examples of light intensity and electric field simulations."
   ]
  },
  {
   "cell_type": "code",
   "execution_count": null,
   "metadata": {},
   "outputs": [],
   "source": [
    "# Simulation of the reflectivity versus angle of a 50 nm silver film\n",
    "# in a prism/silver/air configuration\n",
    "\n",
    "index = np.array([complex(1.5,0.0), complex(0.03,4.24),complex(1.0,0.0)])\n",
    "thickness = np.array([complex(50e-9,0.0)])\n",
    "\n",
    "angstart = 40*(np.pi/180)\n",
    "angend = 50*(np.pi/180)\n",
    "\n",
    "R = om.multilayer(index, thickness, mode = pol, step = 5000, option_aw = 'a', e_opt = 'n',\n",
    "               a1 = angstart, a2 = angend, w_t = 650e-9, w1 = 400e-9, w2 = 750e-9,\n",
    "               ang = np.pi/3, n_wv_dic = {}, nw_list = [], limit = 1000e-9)\n",
    "\n",
    "plt.plot(R[:,0]*57.2598,R[:,1])\n",
    "plt.xlabel('Incident Angle (degrees)')\n",
    "plt.ylabel('Reflectivity')\n",
    "plt.title('Reflectivity versus angle for 50 nm silver film')\n",
    "plt.grid()\n",
    "plt.show()"
   ]
  },
  {
   "cell_type": "code",
   "execution_count": null,
   "metadata": {},
   "outputs": [],
   "source": [
    "# Simulation of the reflectivity versus wavelength of a 50 nm silver film\n",
    "# in a prism/silver/air configuration\n",
    "\n",
    "\n",
    "angle = 43.35*(np.pi/180)\n",
    "W = om.multilayer(index, thickness, mode = 'rp', step = 5000, option_aw = 'w', e_opt = 'n',\n",
    "               a1 = np.pi/6, a2 = np.pi/2, w_t = 650e-9, w1 = 300e-9, w2 = 850e-9,\n",
    "               ang = angle, n_wv_dic = {}, nw_list = [], limit = 1000e-9)\n",
    "\n",
    "plt.plot(W[:,0]*1e9,W[:,1])\n",
    "plt.xlabel('Incident wavelength (nm)')\n",
    "plt.ylabel('Reflectivity')\n",
    "plt.title('Reflectivity versus wavelength for 50 nm silver film')\n",
    "plt.grid()\n",
    "plt.show()"
   ]
  },
  {
   "cell_type": "code",
   "execution_count": null,
   "metadata": {},
   "outputs": [],
   "source": [
    "# Simulation of cross-sectional electromagnetic field intensity (e_opt = 'y') for 50 nm\n",
    "# silver film. The calculation is done at 650 nm at the resonant angle for surface\n",
    "# plasmon generation as determined in the first plot.\n",
    "\n",
    "Ef = om.multilayer(index, thickness, mode = 'rp', step = 5000, option_aw = 'w', e_opt = 'y',\n",
    "               a1 = np.pi/6, a2 = np.pi/2, w_t = 650e-9, w1 = 300e-9, w2 = 850e-9,\n",
    "               ang = angle, n_wv_dic = {}, nw_list = [], limit = 1000e-9)\n",
    "\n",
    "plt.plot(Ef[:,0]*1e9,Ef[:,1])\n",
    "plt.xlabel('Cross-sectional distance (nm)')\n",
    "plt.ylabel('Field intensity (|E|^2)')\n",
    "plt.title('Cross-sectional field intensity at resonance for 50 nm silver film')\n",
    "plt.grid()\n",
    "plt.show()"
   ]
  },
  {
   "cell_type": "code",
   "execution_count": null,
   "metadata": {},
   "outputs": [],
   "source": [
    "# Bloch surface wave simulation for a SiO2/TiO2 multilayer.\n",
    "\n",
    "ntio = np.sqrt(4.84+0.0007*1j)\n",
    "nsio = np.sqrt(2.1316+0.0001*1j)\n",
    "dtio = complex(121e-9,0)\n",
    "dsio = complex(188e-9,0)\n",
    "ddefect= complex(410e-9,0)\n",
    "\n",
    "indexB = np.array([complex(1.5,0),ntio,nsio,ntio,nsio,ntio,nsio,ntio,nsio,complex(1.0,0)])\n",
    "thicknessB = np.array([dtio,dsio,dtio,dsio,dtio,dsio,dtio,ddefect])\n",
    "angstart=61*(np.pi/180)\n",
    "angend=63*(np.pi/180)\n",
    "\n",
    "RBSW = om.multilayer(indexB, thicknessB, mode = 'rs', step = 10000, option_aw = 'a', e_opt = 'n',\n",
    "               a1 = angstart, a2 = angend, w_t = 650e-9, w1 = 400e-9, w2 = 750e-9,\n",
    "               ang = np.pi/3, n_wv_dic = {}, nw_list = [], limit = 1000e-9)\n",
    "\n",
    "plt.plot(RBSW[:,0]*57.2598,RBSW[:,1])\n",
    "plt.xlabel('Angle (degrees)')\n",
    "plt.ylabel('Reflectivity')\n",
    "plt.title('Angular reflectivity of prism-coupled Bloch surf. wave')\n",
    "plt.grid()\n",
    "plt.show()"
   ]
  },
  {
   "cell_type": "code",
   "execution_count": null,
   "metadata": {},
   "outputs": [],
   "source": [
    "# BSW Field profile. The cross-sectional EM filed intensity is plotted at the resonant angle\n",
    "# found in the previous plot. Note that the field is normalized to E=1 in the initial medium.\n",
    "\n",
    "angleB = 62.25*(np.pi/180)\n",
    "\n",
    "EfBSW = om.multilayer(indexB, thicknessB, mode = 'rs', step = 10000, option_aw = 'w', \n",
    "                      e_opt = 'y', a1 = np.pi/6, a2 = np.pi/2, w_t = 650e-9, \n",
    "                      w1 = 300e-9, w2 = 850e-9, ang = angleB, n_wv_dic = {}, nw_list = [], \n",
    "                      limit = 1000e-9)\n",
    "\n",
    "Ind = np.round(np.sum(thicknessB)*1e9)\n",
    "xplot = np.array([Ind,Ind+1])\n",
    "ymax=np.max(EfBSW[:,1])\n",
    "yplot=np.array([0,ymax])\n",
    "\n",
    "plt.plot(EfBSW[:,0]*1e9,EfBSW[:,1])\n",
    "plt.plot(xplot,yplot)\n",
    "plt.xlabel('Cross-sectional distance (nm)')\n",
    "plt.ylabel('Field intensity (|E|^2)')\n",
    "plt.title('Cross-sectional field intensity at resonance for BSW multilayer')\n",
    "plt.grid()\n",
    "plt.show()"
   ]
  },
  {
   "cell_type": "markdown",
   "metadata": {},
   "source": [
    "[1]: <https://pypi.org/project/optical-multilayer/> \"Python Package Index Page\""
   ]
  }
 ],
 "metadata": {
  "kernelspec": {
   "display_name": "Python 3",
   "language": "python",
   "name": "python3"
  },
  "language_info": {
   "codemirror_mode": {
    "name": "ipython",
    "version": 3
   },
   "file_extension": ".py",
   "mimetype": "text/x-python",
   "name": "python",
   "nbconvert_exporter": "python",
   "pygments_lexer": "ipython3",
   "version": "3.7.0"
  }
 },
 "nbformat": 4,
 "nbformat_minor": 2
}
